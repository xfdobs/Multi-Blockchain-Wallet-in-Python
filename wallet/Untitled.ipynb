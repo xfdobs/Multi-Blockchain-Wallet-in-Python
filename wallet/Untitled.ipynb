{
 "cells": [
  {
   "cell_type": "code",
   "execution_count": 97,
   "id": "f02596b3-3d1e-4afe-b229-e207ce1cee0a",
   "metadata": {},
   "outputs": [],
   "source": [
    "import subprocess\n",
    "import json\n",
    "from dotenv import load_dotenv\n",
    "from constants import *\n",
    "import os\n",
    "from web3 import Account, middleware, Web3\n",
    "from web3.middleware import geth_poa_middleware\n",
    "from web3.gas_strategies.time_based import medium_gas_price_strategy\n",
    "from constants import *\n",
    "from web3 import Web3\n",
    "from web3.middleware import geth_poa_middleware\n",
    "from eth_account import Account\n",
    "\n",
    "from bit import PrivateKeyTestnet\n",
    "from bit.network import NetworkAPI\n",
    "\n",
    "# Load and set environment variables\n",
    "load_dotenv()\n",
    "mnemonic=os.getenv(\"mnemonic\")"
   ]
  },
  {
   "cell_type": "code",
   "execution_count": 98,
   "id": "edfc59bf-11a9-4be4-8925-8f6f25aebeba",
   "metadata": {},
   "outputs": [],
   "source": [
    "# Running the local chain\n",
    "w3 = Web3(Web3.HTTPProvider(\"http://127.0.0.1:8545\"))\n",
    "w3.middleware_onion.inject(geth_poa_middleware, layer=0)"
   ]
  },
  {
   "cell_type": "code",
   "execution_count": 99,
   "id": "2cf7e597-fdaf-4173-a213-3f5aff7ddefa",
   "metadata": {},
   "outputs": [],
   "source": [
    "def derive_wallets(mnemonic, coin, numderive):\n",
    "    command = f'php ./derive -g --mnemonic=\"{mnemonic}\" --coin={coin} --numderive={numderive} --format=json'\n",
    "    p = subprocess.Popen(command, stdout=subprocess.PIPE, shell=True)\n",
    "    output, err = p.communicate()\n",
    "    p_status = p.wait()\n",
    "    return json.loads(output)"
   ]
  },
  {
   "cell_type": "code",
   "execution_count": 100,
   "id": "273d78b2-ddd4-47af-9e98-52f02f7c8bc0",
   "metadata": {},
   "outputs": [
    {
     "data": {
      "text/plain": [
       "{'eth': [{'path': \"m/44'/60'/0'/0/0\",\n",
       "   'address': '0xeFb784e5bf469c3758Ef53d4317E6f893831E42A',\n",
       "   'xprv': 'xprvA3vy8zBCE9ySZaoPyuiwikYXR78XUuexgcd5EituSgoRGQ1LuNUYwBtydKgafZTN3kURMS2s7KJTE4mMFyz64Wr9nMYum69Ftnd4hZGqQjE',\n",
       "   'xpub': 'xpub6GvKYVi64XXjn4ss5wFx5tVFy8y1tNNp3qYg37JX12LQ9CLVSunoUzDTUcEKYUaY7NPcuZ1NgxhDFQY2p6qJS4VBuRtuEDaFnSWSf9sQ8Z5',\n",
       "   'privkey': '0x4a6ed997e0629975f11a8440fa17f43e521ceb77c60b3a0b954ad84d34cfb81c',\n",
       "   'pubkey': '03122fc0e7508a073cb395482099803dbcd2a5ff399870ad2c85823957c9a9c028',\n",
       "   'pubkeyhash': '7ec5098f86b12161050336b00627b4489d67a243',\n",
       "   'index': 0},\n",
       "  {'path': \"m/44'/60'/0'/0/1\",\n",
       "   'address': '0x1728da2258c0F85b31Ac399c3096D177167a4B50',\n",
       "   'xprv': 'xprvA3vy8zBCE9ySbirpVZ3ffMYaPcFLTUjuAb7qo8F3CenrGxXWn3j2RYcBFsRQXKcLHkCjvziswoqaZP8ojkXkdCuM7qfKuB4pQxkWrJFu5Zx',\n",
       "   'xpub': 'xpub6GvKYVi64XXjpCwHbaag2VVJwe5prwTkXp3SbWeekzKq9krfKb3GyLvf77zLVM4LQtPqhznG6Bp72ZtiYE9wvr25ufuTRMLWzgFcG3xcH41',\n",
       "   'privkey': '0xb856f875d08e2a7406f7176da8e44d51c0f2043db5db75120ccaa7a047fb426e',\n",
       "   'pubkey': '027b67e0c899408d3e608c6f70db516e2511185900c6e15b25e3f4f5c65c8beb8c',\n",
       "   'pubkeyhash': '4dffb5ff078ba7334ada01ab9bffec770286dd42',\n",
       "   'index': 1},\n",
       "  {'path': \"m/44'/60'/0'/0/2\",\n",
       "   'address': '0xc7ed25C76411507d23fD0F3Df3fceAe5566CEa45',\n",
       "   'xprv': 'xprvA3vy8zBCE9ySfT8ZYTmqVEMRtrjQ1jodWg5xDjjLFVU3L8okRTG7ogk8xErnvTHd4zVoGZL4MgZWZqbG5hupZS4DtaMp28Cd6eM7ATAPd5h',\n",
       "   'xpub': 'xpub6GvKYVi64XXjswD2eVJqrNJAStZtRCXUsu1Z288woq12Cw8txzaNMV4coVuq15c848RefxBAqk148dAVjqeFii6WEAfFhUDY2fBY5zWJRTC',\n",
       "   'privkey': '0x49ba27b8e62534925b305f297ce3228ab841f4c344a55dec12dbcb10abe72023',\n",
       "   'pubkey': '024c9c28140ff0e3c944f0074ef7f0cea81a0961eadd3816f4fcb0bbc6daf02e2c',\n",
       "   'pubkeyhash': 'ad1339bc0ae9521d4f84edd4c8d191868657eb75',\n",
       "   'index': 2}],\n",
       " 'btc-test': [{'path': \"m/44'/1'/0'/0/0\",\n",
       "   'address': 'n1q6d5nbP2Tfy3d8NLBL3gVeEYRBdPASBs',\n",
       "   'xprv': 'tprv8kGqh6iW7pg38CZwCfNyp77pC2oGwrnRT2VNAA32q4fBynmbW6tzXd7tow7XG6WX77LzAysVYcW9ncmoPcYywAK6jXiaut2byQJ9UMVBmGY',\n",
       "   'xpub': 'tpubDGxsqWkkGCMi1fbj6K3aDWmvm4KD7ByL2L69Sg5LFLTapH2N8Viai7jkz4xUHYBtLT8sDu1iDg3SikjrRpBtNsjaCqppzruDxdnazE86sZ2',\n",
       "   'privkey': 'cSFDsVkCfwnNyhgZDNuQgKSfpvXRVUoSDCGLF2KgNZWCjE4fYiZk',\n",
       "   'pubkey': '03015bcbbad1a765c5be5bdc5a9c339558f834c67135f6bfbb1b2f846bba2be926',\n",
       "   'pubkeyhash': 'ded0f47632909d2ae4bbe3560bdd7788db0f9979',\n",
       "   'index': 0},\n",
       "  {'path': \"m/44'/1'/0'/0/1\",\n",
       "   'address': 'mtFU4FYs7a8HguWeZWkYKQtwstsx53HAro',\n",
       "   'xprv': 'tprv8kGqh6iW7pg38eF3iqW9P1LRFinU3exEJnJoJ6HqRrcRShwwjsGfVrk11LbjPwz59ZqEeGWo1t5gqCPibSRo8gsGqNP6EbFkP4FE7yVerho',\n",
       "   'xpub': 'tpubDGxsqWkkGCMi27GqcVAjnQzXpkJQCz98t5uaacL8r8QpHCCiNG6FgMMsBUXRF47Jc5oNhqs3xLwKResBUBEzdxFQimH3WxrN8YeAGKtBFh1',\n",
       "   'privkey': 'cPQ6V9Qy7mR9i6enwj2BTvRccUDPgUD22w3mnyrdz6A4Lu4FFj2t',\n",
       "   'pubkey': '02b72b7345265418f4adca8caf8a9e392dc08980cae1e634a3fb10fd31f1a94352',\n",
       "   'pubkeyhash': '8babd2ea7f56db7b0ef02cff4f30229be1d37cc9',\n",
       "   'index': 1},\n",
       "  {'path': \"m/44'/1'/0'/0/2\",\n",
       "   'address': 'mtqTJfLWe6xV5NKu6ttJ3NVNm2ouWHZzes',\n",
       "   'xprv': 'tprv8kGqh6iW7pg3BCuV7LGQwRdsMsihMtFWU5YZtt6rYEsuX6CQjHG3cVY2WfGXF2VN1bFCVjDv86XaNzJC5Ms68KkLpMkDwSZDPjmPzvBhx1k',\n",
       "   'xpub': 'tpubDGxsqWkkGCMi4fwGzyw1LqHyvuEdXDSR3P9MBQ99xWgJMaTBMg5dnz9tgna5FZ8S6jV5pT76QcRyGhkeortgepLvq99P7GPCEHhACiov7rH',\n",
       "   'privkey': 'cTsspTmXR57DBfaGHZARGW5M9hXqgr8KhXMoGb9EaXuCJrWtsP14',\n",
       "   'pubkey': '02eac311c97e7a3ce4929d99dc17aa7213a18df53e5bb5158366acbe5df6e0abea',\n",
       "   'pubkeyhash': '921956d7bd8c7e1c12b37c0782c39249fd1085fa',\n",
       "   'index': 2}],\n",
       " 'btc': [{'path': \"m/44'/0'/0'/0/0\",\n",
       "   'address': '1DDyD3sNZJdToAkBvULC25gHQeyRYRVP5o',\n",
       "   'xprv': 'xprvA3AsnB5BWpQKrgY8pz3ZJRKnWAa65gs3Mx6mKa8dMTZropmNLBUxsKsRC5EZoeLfmJScF2LHNWS2dh56Ta6RHkz8sgdy9fH7Xa8ppxuJYun',\n",
       "   'xpub': 'xpub6GAEBgc5MBxd5Acbw1aZfZGX4CQaV9atjB2N7xYEuo6qgd6WsioDR8Bu3KTVxE1iY7dU7qsyHgoZ1T3gd5LB475zoj2LhvahPTff2TmU3qE',\n",
       "   'privkey': 'L5cu6q6AdtF8FZVXEcki9XWg9CK3zYcx8wdqG6GTLLD5WZXbGzat',\n",
       "   'pubkey': '029049ee6dba50d48a20b75ce86e3010731f5f4729b88bda2cabe576971609efac',\n",
       "   'pubkeyhash': '86156bba66be16bc16e136d9e4aad2ab107b1448',\n",
       "   'index': 0},\n",
       "  {'path': \"m/44'/0'/0'/0/1\",\n",
       "   'address': '157QrgprCp5XEJnvvRs6mh6Z63QUYd3Zi6',\n",
       "   'xprv': 'xprvA3AsnB5BWpQKv29Ht4WM9iBpnuvdvrx6sHVQ7fBX2ogvEjJ95nSG5aneZ6grAZMZ6rRaUR2YmaFxWSLcBrZmJKHgqB3hu5GfavvPS2wv9gf',\n",
       "   'xpub': 'xpub6GAEBgc5MBxd8WDkz63MWr8ZLwm8LKfxEWQzv3b8b9Du7XdHdKkWdP78QQF5bbnyNK1tmnudwyJa4AEUjnu1jJZ3BzxjQKjVdk3njgL37Gv',\n",
       "   'privkey': 'KweFpG6rghAihFoyMiX1SeiFqdwkX8P79epkMWZ7wq8mJBTmJ2Ch',\n",
       "   'pubkey': '035931cd221b40d92d62aa277d729221b1e6f94fd62347241e09e35824bcfbed71',\n",
       "   'pubkeyhash': '2d16e9d7b835c4586248b7e04087288d85209b44',\n",
       "   'index': 1},\n",
       "  {'path': \"m/44'/0'/0'/0/2\",\n",
       "   'address': '1PsgqTUNtAQ7tWT31LRH8Jwv1QnzkWrTar',\n",
       "   'xprv': 'xprvA3AsnB5BWpQKxeU2gFGs4vZw36L2FgBRWYjr5PpbEy7gijjedUMhFKWFk2LwCNinsRS3GZrQyVn1xm66J5GeHVaVfQrM6vLCC3TakcDCozm',\n",
       "   'xpub': 'xpub6GAEBgc5MBxdB8YVnGosS4Wfb8AWf8uGsmfSsnECoJefbY4oB1fwo7pjbLXL3pHCSvDoTJcy8fUSQFKqQPj1Jq41G22WCcGXN69t7w9QUDW',\n",
       "   'privkey': 'KyXrRDvFM6yhtpUzkRj6fvTvf8jJaPpXwoMiDeJxMsykfNhG7gXg',\n",
       "   'pubkey': '03e3afb72810f53e6c928f7c14616835e630ee3b6a00f9ff383be3e000bc996b08',\n",
       "   'pubkeyhash': 'fae8d17bdb2f6504b7bd229a7011578ff34255ee',\n",
       "   'index': 2}]}"
      ]
     },
     "execution_count": 100,
     "metadata": {},
     "output_type": "execute_result"
    }
   ],
   "source": [
    "coins = {\n",
    "    ETH: derive_wallets(mnemonic, ETH, 3),\n",
    "    BTCTEST: derive_wallets(mnemonic, BTCTEST, 3),\n",
    "    BTC: derive_wallets(mnemonic, BTC, 3)\n",
    "}\n",
    "coins"
   ]
  },
  {
   "cell_type": "code",
   "execution_count": 101,
   "id": "4a24e3be-3c52-4cae-a071-c87b96260d0a",
   "metadata": {},
   "outputs": [],
   "source": [
    "def priv_key_to_account(coin, priv_key):\n",
    "    if coin is BTCTEST:\n",
    "        return PrivateKeyTestnet(priv_key)\n",
    "    elif coin is ETH:\n",
    "        return Account.privateKeyToAccount(priv_key)"
   ]
  },
  {
   "cell_type": "code",
   "execution_count": 102,
   "id": "f8b78d61-fdc1-4c69-809a-e36983afda1a",
   "metadata": {},
   "outputs": [],
   "source": [
    "def create_tx(coin, account, to, amount):\n",
    "    if coin is BTCTEST:\n",
    "        return PrivateKeyTestnet.prepare_transaction(account.address, [(to, amount, BTC)])\n",
    "    elif coin is ETH:\n",
    "        gasEstimate = w3.eth.estimateGas(\n",
    "            {\"from\": account.address, \n",
    "             \"to\": to, \n",
    "             \"value\": amount}\n",
    "        )\n",
    "        return {\n",
    "            'chainId': 888,\n",
    "            \"from\": account.address,\n",
    "            \"to\": to,\n",
    "            \"value\": amount,\n",
    "            \"gasPrice\": w3.eth.gasPrice,\n",
    "            \"gas\": gasEstimate,\n",
    "            \"nonce\": w3.eth.getTransactionCount(account.address),\n",
    "        }"
   ]
  },
  {
   "cell_type": "code",
   "execution_count": 103,
   "id": "c3457550-4d3f-4acf-8e98-d68c83458bdf",
   "metadata": {},
   "outputs": [],
   "source": [
    "def send_tx(coin, account, to, amount):\n",
    "    tx = create_tx(coin, account, to, amount)\n",
    "    print(tx)\n",
    "    signed_tx = account.sign_transaction(tx)\n",
    "    if coin is BTCTEST:\n",
    "        return NetworkAPI.broadcast_tx_testnet(signed_tx)\n",
    "    elif coin is ETH:\n",
    "        return w3.eth.sendRawTransaction(signed_tx.rawTransaction)"
   ]
  },
  {
   "cell_type": "code",
   "execution_count": 106,
   "id": "a862ae69-0830-40b1-9017-8c1d54b92e5a",
   "metadata": {},
   "outputs": [],
   "source": [
    "ethtest_account = priv_key_to_account(ETH,coins[ETH][0]['privkey'])"
   ]
  },
  {
   "cell_type": "code",
   "execution_count": null,
   "id": "1438687a-d99a-4e9e-b3ad-18e63eb6645b",
   "metadata": {},
   "outputs": [],
   "source": []
  },
  {
   "cell_type": "code",
   "execution_count": 107,
   "id": "c73c9c50-fd5e-40b9-be5b-7e0c1e1512be",
   "metadata": {},
   "outputs": [
    {
     "name": "stdout",
     "output_type": "stream",
     "text": [
      "{'chainId': 888, 'from': '0xeFb784e5bf469c3758Ef53d4317E6f893831E42A', 'to': '0xB6d0101671b9E37aE7702C4B277F9DC2eB668ec9', 'value': 222, 'gasPrice': 1000000000, 'gas': 21000, 'nonce': 1}\n"
     ]
    },
    {
     "data": {
      "text/plain": [
       "HexBytes('0x38cbbecb54959be58be1f50e2f73e49f04fb74d88a3d2163edcc83190545befa')"
      ]
     },
     "execution_count": 107,
     "metadata": {},
     "output_type": "execute_result"
    }
   ],
   "source": [
    "send_tx(ETH,ethtest_account,\"0xB6d0101671b9E37aE7702C4B277F9DC2eB668ec9\",29000)"
   ]
  },
  {
   "cell_type": "code",
   "execution_count": null,
   "id": "a322e58d-e6e6-409b-a99b-4f00aa77624a",
   "metadata": {},
   "outputs": [],
   "source": []
  }
 ],
 "metadata": {
  "kernelspec": {
   "display_name": "Python 3",
   "language": "python",
   "name": "python3"
  },
  "language_info": {
   "codemirror_mode": {
    "name": "ipython",
    "version": 3
   },
   "file_extension": ".py",
   "mimetype": "text/x-python",
   "name": "python",
   "nbconvert_exporter": "python",
   "pygments_lexer": "ipython3",
   "version": "3.8.5"
  }
 },
 "nbformat": 4,
 "nbformat_minor": 5
}
