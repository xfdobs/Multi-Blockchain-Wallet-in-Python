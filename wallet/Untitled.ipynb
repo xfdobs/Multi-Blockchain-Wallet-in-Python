{
 "cells": [
  {
   "cell_type": "code",
   "execution_count": 46,
   "id": "f02596b3-3d1e-4afe-b229-e207ce1cee0a",
   "metadata": {},
   "outputs": [],
   "source": [
    "import subprocess\n",
    "import json\n",
    "from dotenv import load_dotenv\n",
    "from constants import *\n",
    "import os\n",
    "\n",
    "# Load and set environment variables\n",
    "load_dotenv()\n",
    "mnemonic=os.getenv(\"mnemonic\")"
   ]
  },
  {
   "cell_type": "code",
   "execution_count": 47,
   "id": "2cf7e597-fdaf-4173-a213-3f5aff7ddefa",
   "metadata": {},
   "outputs": [],
   "source": [
    "def derive_wallets(mnemonic,coin,format):\n",
    "    command =f'php ./derive -g --mnemonic=\"{mnemonic}\" --cols=all --coin={coin} --numderive=3 --format={format}'\n",
    "\n",
    "    p = subprocess.Popen(command, stdout=subprocess.PIPE, shell=True)\n",
    "    output, err = p.communicate()\n",
    "    p_status = p.wait()\n",
    "    return json.loads(output)\n"
   ]
  },
  {
   "cell_type": "code",
   "execution_count": 48,
   "id": "273d78b2-ddd4-47af-9e98-52f02f7c8bc0",
   "metadata": {},
   "outputs": [
    {
     "data": {
      "text/plain": [
       "{'eth': [{'path': \"m/44'/60'/0'/0/0\",\n",
       "   'address': '0xB15cd61B5C9aF5ca1DD42f9AbBD7E3AA99659d05',\n",
       "   'xprv': 'xprvA3Q44VyxZiU6k5PQjQj2YJVAbSFwcNMAY76oH2mPJ1aD3zSRtSsQGzpsEhevdheL97aM5sPhsT1tfFasTBcjUi92RRvcMqKnXJHM6PweuyE',\n",
       "   'xpub': 'xpub6GPQU1WrQ62PxZTsqSG2uSRu9U6S1q51uL2Q5RAzrM7BvnmaRzBepo9M5xBwDJdpqbS34reZt3LepZ9SbT3JRmJCJuCaqj3Xw5mvwFiX71C',\n",
       "   'privkey': '0xb38a98016af2cae94437be96f935666b09421cfde321600eb398cdd330f9ec03',\n",
       "   'pubkey': '02723f2db8f9625c17e97413e6ea1392c144d2ee8c6539e680c425eb2c9a968e40',\n",
       "   'pubkeyhash': 'a43fff8443472390d82ea6362fbfb3636e96fcd0',\n",
       "   'index': 0},\n",
       "  {'path': \"m/44'/60'/0'/0/1\",\n",
       "   'address': '0x3751721bb02eeAb0D40931987ABC3c14C8DA2a65',\n",
       "   'xprv': 'xprvA3Q44VyxZiU6p8mMpguYNxFEL8qLnrwwXW2Z6rMrDYyNLeNKTy8WLaPfZfXmCny35zVA1Znru6aGMxT1iN236bV1V1fj1UZF3qCr9Z8F4f3',\n",
       "   'xpub': 'xpub6GPQU1WrQ62Q2cqpviSYk6BxtAfqCKfntix9uEmTmtWMDShU1WSktNi9QwZA8oAA4bysHSLJ7NCBqEYSMebvStebj9DdxkFisFHxpnYJEJQ',\n",
       "   'privkey': '0x64ddf7fbcc1f4dcb8b9f7ba095ec52f2de9ea54ec151a7e2ec8fb1ac696f921d',\n",
       "   'pubkey': '02e7b895c6919a1e320ae5cbca2c52917f4cf248bfc44d4e37157e1b146b4be51d',\n",
       "   'pubkeyhash': 'fd3dc1c374acb54d3ed4e17623d27ffb45806748',\n",
       "   'index': 1},\n",
       "  {'path': \"m/44'/60'/0'/0/2\",\n",
       "   'address': '0x6E184d194f4C52e596eC9a92e44204DBbe1B18c5',\n",
       "   'xprv': 'xprvA3Q44VyxZiU6rtC8Ww31BRTbrSBdmcsYrwdTRcNnuh8qJgiwPT5aBVncWZC6n5ypjJkAk1gpYRA1B7U1Axiw1Sad5ngzeWRUzDMV8axPsqN',\n",
       "   'xpub': 'xpub6GPQU1WrQ62Q5NGbcxa1YZQLQU28B5bQEAZ4DznQU2fpBV45vzPpjJ76Mqyf8JhayX1osEdgxcHVuX1WjqGgzhiytdxHpFSaGakZmxBdPwD',\n",
       "   'privkey': '0xd92fc2d78cf7f11c037de24a30b8b6209760f5da99c7bb151fdb326690e36d6f',\n",
       "   'pubkey': '03c0510ce2a918ef45f1fd529fb1f91c7c3e66852719b3b2ead0077790620e30b2',\n",
       "   'pubkeyhash': '9cdaadc29af4a55235547714b43f27bed809de47',\n",
       "   'index': 2}],\n",
       " 'btc-test': [{'path': \"m/44'/1'/0'/0/0\",\n",
       "   'address': 'mfiUC3K4gS2rRX8ELxYNXqDwdPmuvqFFWg',\n",
       "   'xprv': 'tprv8kHP6UY22vm5RZcqe5qYvAPATi2kVuLc5AqfKKRHGhW1mP7HeqEEUApFdg5rwdczonpN3129XND8z7gLMUct2etmoRoLbpxzndaEsERNXQn',\n",
       "   'xpub': 'tpubDGyREtaGBJSkK2edXjW9Ka3H2jYgfEXWeUSSbqTagyJQbsN4HE3pefS7ooPPbMVZTmLK3pekNV6c1EADo43m3H7oW29oTkPzcNz2zGt4iES',\n",
       "   'privkey': 'cRSr1MWUXcYSXQM5wa3sTAiSbraKjvZfQta2S83fKS3aa6Uovuqv',\n",
       "   'pubkey': '02a228301cb5c73f215e8a227d5f35b30524c9cd7626109dcec5f62e767775c8b7',\n",
       "   'pubkeyhash': '022d88223761ccdf71209c355294a9f4f7f517e7',\n",
       "   'index': 0},\n",
       "  {'path': \"m/44'/1'/0'/0/1\",\n",
       "   'address': 'mpSNm9bwMfRhonMmXU5YQqW12Fq3emNV5K',\n",
       "   'xprv': 'tprv8kHP6UY22vm5WBEt6rRU5VdnmkjncsTXLYFnuFVuUxs6ckXKQnV5YPL3Z66yDmoefwHj1KyUKMf3RUaLtTF5c2BcpJN9M1J42EUN1KB5r2R',\n",
       "   'xpub': 'tpubDGyREtaGBJSkPeGfzW64UuHuLnFinCeRuqraBmYCuEfVTEn63BJfiswujESeHG11pdXCPuvzSFKNkdzAbc4RBVnPsCukvxFb6muwvEhf6QF',\n",
       "   'privkey': 'cUmcwVNVHX1ic3VKrg7mSWth6tsbV1njYJvPfUDrNtAuTFVhuwqM',\n",
       "   'pubkey': '038de4e821b02d49e473fdbd68c8fe382b1d4a43693044d9b21ff1ace7c2e555d8',\n",
       "   'pubkeyhash': '61db79f54d2b08ca4a18679f876f6bc0bbc00d90',\n",
       "   'index': 1},\n",
       "  {'path': \"m/44'/1'/0'/0/2\",\n",
       "   'address': 'mhFTguRVYEdcC5X1B5QsMnRg6WJURaAtYS',\n",
       "   'xprv': 'tprv8kHP6UY22vm5Yo9rZZfFgkLfcs7n9Ffs4rvyjoSmMnYQgWNTzbXLVwq4YmUoSwum2YgYi3wsXuULFyjxkEjT3Why2SCoCY2kzomytzoe6rJ',\n",
       "   'xpub': 'tpubDGyREtaGBJSkSGBeTDKr69znBtdiJarmeAXm2KV4n4LoWzdEczLvgSSvitXQn8dkdKdhcbMzDhjS31zKgbDZ44pUPtNJrrVEPUMybjcypeW',\n",
       "   'privkey': 'cRPYYZS9NYoQT9TGizxBK6jSr2Ae1M1BV2tQxL9FgLj2t57W81S4',\n",
       "   'pubkey': '027e952ae447c518e64c67787afe21c7c679ab6175216fd4601bbf81770a3f74c7',\n",
       "   'pubkeyhash': '1302220e901953f3142cb2ebcf425becb703e58e',\n",
       "   'index': 2}]}"
      ]
     },
     "execution_count": 48,
     "metadata": {},
     "output_type": "execute_result"
    }
   ],
   "source": [
    "coins = {\n",
    "    ETH: derive_wallets(mnemonic,ETH,'json'),\n",
    "    BTCTEST: derive_wallets(mnemonic,BTCTEST,'json')\n",
    "}\n",
    "coins"
   ]
  },
  {
   "cell_type": "code",
   "execution_count": 38,
   "id": "4a24e3be-3c52-4cae-a071-c87b96260d0a",
   "metadata": {},
   "outputs": [],
   "source": [
    "def priv_key_to_account(coin, priv_key):\n",
    "    if coin == 'BTCTEST':\n",
    "        return bit.PrivateKeyTestnet(priv_key) \n",
    "    elif coin == 'ETH':\n",
    "        return Account.privateKeyToAccount(priv_key)"
   ]
  },
  {
   "cell_type": "code",
   "execution_count": 40,
   "id": "f8b78d61-fdc1-4c69-809a-e36983afda1a",
   "metadata": {},
   "outputs": [],
   "source": [
    "def create_tx(coin, account, to, amount):\n",
    "    if coin == ETH:\n",
    "        gasEstimate = w3.eth.estimateGas(\n",
    "            {\"from\": account.address, \n",
    "             \"to\": to, \n",
    "             \"value\": amount\n",
    "            })\n",
    "        return {\"from\": account.address, \n",
    "                \"to\": to, \n",
    "                \"value\": amount, \n",
    "                \"gasPrice\": w3.eth.gasPrice, \n",
    "                \"gas\": gasEstimate, \n",
    "                \"nonce\": w3.eth.getTransactionCount(account.address), \n",
    "                \"chainID\": w3.eth.chain_id}\n",
    "    if coin == BTCTEST:\n",
    "        return PrivateKeyTestnet.prepare_transaction(account.address, [(to, amount, BTCTEST)])"
   ]
  },
  {
   "cell_type": "code",
   "execution_count": 41,
   "id": "c3457550-4d3f-4acf-8e98-d68c83458bdf",
   "metadata": {},
   "outputs": [],
   "source": [
    "def send_tx(coin, account, to, amount):\n",
    "    if coin == ETH:\n",
    "        raw_tx = create_tx(coin, account, to, amount)\n",
    "        signed = account.signTransaction(raw_tx)\n",
    "        return w3.eth.sendRawTransaction(signed.rawTransaction)\n",
    "    if coin == BTCTEST:\n",
    "        raw_tx = create_tx(coin, account, to, amount)\n",
    "        signed = account.sign_transaction(raw_tx)\n",
    "        return NetworkAPI.broadcast_tx_testnet(signed)"
   ]
  },
  {
   "cell_type": "code",
   "execution_count": null,
   "id": "a862ae69-0830-40b1-9017-8c1d54b92e5a",
   "metadata": {},
   "outputs": [],
   "source": []
  }
 ],
 "metadata": {
  "kernelspec": {
   "display_name": "Python 3",
   "language": "python",
   "name": "python3"
  },
  "language_info": {
   "codemirror_mode": {
    "name": "ipython",
    "version": 3
   },
   "file_extension": ".py",
   "mimetype": "text/x-python",
   "name": "python",
   "nbconvert_exporter": "python",
   "pygments_lexer": "ipython3",
   "version": "3.8.5"
  }
 },
 "nbformat": 4,
 "nbformat_minor": 5
}
